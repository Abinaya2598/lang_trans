{
  "nbformat": 4,
  "nbformat_minor": 0,
  "metadata": {
    "colab": {
      "name": "task 8",
      "provenance": [],
      "collapsed_sections": []
    },
    "kernelspec": {
      "name": "python3",
      "display_name": "Python 3"
    },
    "language_info": {
      "name": "python"
    }
  },
  "cells": [
    {
      "cell_type": "code",
      "execution_count": null,
      "metadata": {
        "id": "ChkMoATyA_iL"
      },
      "outputs": [],
      "source": [
        "import nltk\n",
        "import pandas as pd\n",
        "nltk.download('punkt')\n",
        "nltk.download('wordnet')\n",
        "nltk.download('stopwords')\n",
        "nltk.download('averaged_perceptron_tagger')"
      ]
    },
    {
      "cell_type": "code",
      "source": [
        "df=pd.read_csv(\"English.csv\")\n",
        "df=df.sample(5000)\n",
        "df"
      ],
      "metadata": {
        "id": "rQgKI7-ZJgeu",
        "colab": {
          "base_uri": "https://localhost:8080/",
          "height": 424
        },
        "outputId": "d6c2aab4-6b3f-4d76-8234-8b505ba86eec"
      },
      "execution_count": 28,
      "outputs": [
        {
          "output_type": "execute_result",
          "data": {
            "text/plain": [
              "                                  English words/sentences\n",
              "16406                                   They'll kill you.\n",
              "31606                                They questioned him.\n",
              "124030                Having finished it, he went to bed.\n",
              "172205  Does the applicant have suitable abilities to ...\n",
              "133290              I don't want to get my clothes dirty.\n",
              "...                                                   ...\n",
              "101309                    Can you think of anything else?\n",
              "33937                               Everyone else waited.\n",
              "158815    Are these the pictures that you took in Boston?\n",
              "153982       I don't want to participate in the ceremony.\n",
              "64668                           Tom looks extremely busy.\n",
              "\n",
              "[5000 rows x 1 columns]"
            ],
            "text/html": [
              "\n",
              "  <div id=\"df-72c956ba-d6d5-446a-ad81-71ecc4948cab\">\n",
              "    <div class=\"colab-df-container\">\n",
              "      <div>\n",
              "<style scoped>\n",
              "    .dataframe tbody tr th:only-of-type {\n",
              "        vertical-align: middle;\n",
              "    }\n",
              "\n",
              "    .dataframe tbody tr th {\n",
              "        vertical-align: top;\n",
              "    }\n",
              "\n",
              "    .dataframe thead th {\n",
              "        text-align: right;\n",
              "    }\n",
              "</style>\n",
              "<table border=\"1\" class=\"dataframe\">\n",
              "  <thead>\n",
              "    <tr style=\"text-align: right;\">\n",
              "      <th></th>\n",
              "      <th>English words/sentences</th>\n",
              "    </tr>\n",
              "  </thead>\n",
              "  <tbody>\n",
              "    <tr>\n",
              "      <th>16406</th>\n",
              "      <td>They'll kill you.</td>\n",
              "    </tr>\n",
              "    <tr>\n",
              "      <th>31606</th>\n",
              "      <td>They questioned him.</td>\n",
              "    </tr>\n",
              "    <tr>\n",
              "      <th>124030</th>\n",
              "      <td>Having finished it, he went to bed.</td>\n",
              "    </tr>\n",
              "    <tr>\n",
              "      <th>172205</th>\n",
              "      <td>Does the applicant have suitable abilities to ...</td>\n",
              "    </tr>\n",
              "    <tr>\n",
              "      <th>133290</th>\n",
              "      <td>I don't want to get my clothes dirty.</td>\n",
              "    </tr>\n",
              "    <tr>\n",
              "      <th>...</th>\n",
              "      <td>...</td>\n",
              "    </tr>\n",
              "    <tr>\n",
              "      <th>101309</th>\n",
              "      <td>Can you think of anything else?</td>\n",
              "    </tr>\n",
              "    <tr>\n",
              "      <th>33937</th>\n",
              "      <td>Everyone else waited.</td>\n",
              "    </tr>\n",
              "    <tr>\n",
              "      <th>158815</th>\n",
              "      <td>Are these the pictures that you took in Boston?</td>\n",
              "    </tr>\n",
              "    <tr>\n",
              "      <th>153982</th>\n",
              "      <td>I don't want to participate in the ceremony.</td>\n",
              "    </tr>\n",
              "    <tr>\n",
              "      <th>64668</th>\n",
              "      <td>Tom looks extremely busy.</td>\n",
              "    </tr>\n",
              "  </tbody>\n",
              "</table>\n",
              "<p>5000 rows × 1 columns</p>\n",
              "</div>\n",
              "      <button class=\"colab-df-convert\" onclick=\"convertToInteractive('df-72c956ba-d6d5-446a-ad81-71ecc4948cab')\"\n",
              "              title=\"Convert this dataframe to an interactive table.\"\n",
              "              style=\"display:none;\">\n",
              "        \n",
              "  <svg xmlns=\"http://www.w3.org/2000/svg\" height=\"24px\"viewBox=\"0 0 24 24\"\n",
              "       width=\"24px\">\n",
              "    <path d=\"M0 0h24v24H0V0z\" fill=\"none\"/>\n",
              "    <path d=\"M18.56 5.44l.94 2.06.94-2.06 2.06-.94-2.06-.94-.94-2.06-.94 2.06-2.06.94zm-11 1L8.5 8.5l.94-2.06 2.06-.94-2.06-.94L8.5 2.5l-.94 2.06-2.06.94zm10 10l.94 2.06.94-2.06 2.06-.94-2.06-.94-.94-2.06-.94 2.06-2.06.94z\"/><path d=\"M17.41 7.96l-1.37-1.37c-.4-.4-.92-.59-1.43-.59-.52 0-1.04.2-1.43.59L10.3 9.45l-7.72 7.72c-.78.78-.78 2.05 0 2.83L4 21.41c.39.39.9.59 1.41.59.51 0 1.02-.2 1.41-.59l7.78-7.78 2.81-2.81c.8-.78.8-2.07 0-2.86zM5.41 20L4 18.59l7.72-7.72 1.47 1.35L5.41 20z\"/>\n",
              "  </svg>\n",
              "      </button>\n",
              "      \n",
              "  <style>\n",
              "    .colab-df-container {\n",
              "      display:flex;\n",
              "      flex-wrap:wrap;\n",
              "      gap: 12px;\n",
              "    }\n",
              "\n",
              "    .colab-df-convert {\n",
              "      background-color: #E8F0FE;\n",
              "      border: none;\n",
              "      border-radius: 50%;\n",
              "      cursor: pointer;\n",
              "      display: none;\n",
              "      fill: #1967D2;\n",
              "      height: 32px;\n",
              "      padding: 0 0 0 0;\n",
              "      width: 32px;\n",
              "    }\n",
              "\n",
              "    .colab-df-convert:hover {\n",
              "      background-color: #E2EBFA;\n",
              "      box-shadow: 0px 1px 2px rgba(60, 64, 67, 0.3), 0px 1px 3px 1px rgba(60, 64, 67, 0.15);\n",
              "      fill: #174EA6;\n",
              "    }\n",
              "\n",
              "    [theme=dark] .colab-df-convert {\n",
              "      background-color: #3B4455;\n",
              "      fill: #D2E3FC;\n",
              "    }\n",
              "\n",
              "    [theme=dark] .colab-df-convert:hover {\n",
              "      background-color: #434B5C;\n",
              "      box-shadow: 0px 1px 3px 1px rgba(0, 0, 0, 0.15);\n",
              "      filter: drop-shadow(0px 1px 2px rgba(0, 0, 0, 0.3));\n",
              "      fill: #FFFFFF;\n",
              "    }\n",
              "  </style>\n",
              "\n",
              "      <script>\n",
              "        const buttonEl =\n",
              "          document.querySelector('#df-72c956ba-d6d5-446a-ad81-71ecc4948cab button.colab-df-convert');\n",
              "        buttonEl.style.display =\n",
              "          google.colab.kernel.accessAllowed ? 'block' : 'none';\n",
              "\n",
              "        async function convertToInteractive(key) {\n",
              "          const element = document.querySelector('#df-72c956ba-d6d5-446a-ad81-71ecc4948cab');\n",
              "          const dataTable =\n",
              "            await google.colab.kernel.invokeFunction('convertToInteractive',\n",
              "                                                     [key], {});\n",
              "          if (!dataTable) return;\n",
              "\n",
              "          const docLinkHtml = 'Like what you see? Visit the ' +\n",
              "            '<a target=\"_blank\" href=https://colab.research.google.com/notebooks/data_table.ipynb>data table notebook</a>'\n",
              "            + ' to learn more about interactive tables.';\n",
              "          element.innerHTML = '';\n",
              "          dataTable['output_type'] = 'display_data';\n",
              "          await google.colab.output.renderOutput(dataTable, element);\n",
              "          const docLink = document.createElement('div');\n",
              "          docLink.innerHTML = docLinkHtml;\n",
              "          element.appendChild(docLink);\n",
              "        }\n",
              "      </script>\n",
              "    </div>\n",
              "  </div>\n",
              "  "
            ]
          },
          "metadata": {},
          "execution_count": 28
        }
      ]
    },
    {
      "cell_type": "code",
      "source": [
        "df.shape"
      ],
      "metadata": {
        "colab": {
          "base_uri": "https://localhost:8080/"
        },
        "id": "dt8PCDR2JgYk",
        "outputId": "111750f6-4454-4a67-c25d-9fc72ca2db4e"
      },
      "execution_count": 29,
      "outputs": [
        {
          "output_type": "execute_result",
          "data": {
            "text/plain": [
              "(5000, 1)"
            ]
          },
          "metadata": {},
          "execution_count": 29
        }
      ]
    },
    {
      "cell_type": "code",
      "source": [
        "df.isnull().sum()"
      ],
      "metadata": {
        "colab": {
          "base_uri": "https://localhost:8080/"
        },
        "id": "p_8q1-iyJgRt",
        "outputId": "016afdab-ac7d-48d9-a3b4-0849867cd23f"
      },
      "execution_count": 30,
      "outputs": [
        {
          "output_type": "execute_result",
          "data": {
            "text/plain": [
              "English words/sentences    0\n",
              "dtype: int64"
            ]
          },
          "metadata": {},
          "execution_count": 30
        }
      ]
    },
    {
      "cell_type": "markdown",
      "source": [
        "word tokenisation"
      ],
      "metadata": {
        "id": "b3FSEtoTKqBf"
      }
    },
    {
      "cell_type": "code",
      "source": [
        "from nltk.tokenize import word_tokenize\n",
        "for i in df['English words/sentences']: \n",
        "    words = nltk.word_tokenize(i) \n",
        "    print(words)\n",
        "    print()"
      ],
      "metadata": {
        "id": "K3K5IKeAKpDK"
      },
      "execution_count": null,
      "outputs": []
    },
    {
      "cell_type": "markdown",
      "source": [
        "stopword removal"
      ],
      "metadata": {
        "id": "VQDtCSKNXVRr"
      }
    },
    {
      "cell_type": "code",
      "source": [
        "df['English words/sentences'] = [review.lower() for review in df['English words/sentences']]"
      ],
      "metadata": {
        "id": "EBU9awoBFPMP"
      },
      "execution_count": 32,
      "outputs": []
    },
    {
      "cell_type": "code",
      "source": [
        "from nltk.corpus import stopwords\n",
        "stop_words = set(stopwords.words(\"english\"))\n",
        "df['English words/sentences']=df['English words/sentences'].apply(lambda row: ' '.join([word for word in row.split() if not word in stop_words]))\n",
        "df['English words/sentences']"
      ],
      "metadata": {
        "id": "hrZAEwBoJgD5",
        "colab": {
          "base_uri": "https://localhost:8080/"
        },
        "outputId": "f044f65b-3846-41f5-a5f4-24e3d9101f36"
      },
      "execution_count": 33,
      "outputs": [
        {
          "output_type": "execute_result",
          "data": {
            "text/plain": [
              "16406                           they'll kill you.\n",
              "31606                             questioned him.\n",
              "124030                     finished it, went bed.\n",
              "172205    applicant suitable abilities carry job?\n",
              "133290                    want get clothes dirty.\n",
              "                           ...                   \n",
              "101309                       think anything else?\n",
              "33937                       everyone else waited.\n",
              "158815                      pictures took boston?\n",
              "153982                 want participate ceremony.\n",
              "64668                   tom looks extremely busy.\n",
              "Name: English words/sentences, Length: 5000, dtype: object"
            ]
          },
          "metadata": {},
          "execution_count": 33
        }
      ]
    },
    {
      "cell_type": "markdown",
      "source": [
        "punctuation removal"
      ],
      "metadata": {
        "id": "HNQNketzcamX"
      }
    },
    {
      "cell_type": "code",
      "source": [
        "from nltk.tokenize import RegexpTokenizer\n",
        "df['English words/sentences'] = df['English words/sentences'].str.replace(\"[^a-zA-Z0-9]\", \" \")\n",
        "df['English words/sentences']"
      ],
      "metadata": {
        "id": "f_8V-vNSJiKY",
        "colab": {
          "base_uri": "https://localhost:8080/"
        },
        "outputId": "c2d78fb6-f35b-4c0c-f7d6-68fc323e4e6d"
      },
      "execution_count": 34,
      "outputs": [
        {
          "output_type": "stream",
          "name": "stderr",
          "text": [
            "/usr/local/lib/python3.7/dist-packages/ipykernel_launcher.py:2: FutureWarning: The default value of regex will change from True to False in a future version.\n",
            "  \n"
          ]
        },
        {
          "output_type": "execute_result",
          "data": {
            "text/plain": [
              "16406                           they ll kill you \n",
              "31606                             questioned him \n",
              "124030                     finished it  went bed \n",
              "172205    applicant suitable abilities carry job \n",
              "133290                    want get clothes dirty \n",
              "                           ...                   \n",
              "101309                       think anything else \n",
              "33937                       everyone else waited \n",
              "158815                      pictures took boston \n",
              "153982                 want participate ceremony \n",
              "64668                   tom looks extremely busy \n",
              "Name: English words/sentences, Length: 5000, dtype: object"
            ]
          },
          "metadata": {},
          "execution_count": 34
        }
      ]
    },
    {
      "cell_type": "code",
      "source": [
        "df['English words/sentences'] = df['English words/sentences'].apply(lambda row: ' '.join([word for word in row.split() if len(word)>2]))\n",
        "df['English words/sentences']"
      ],
      "metadata": {
        "colab": {
          "base_uri": "https://localhost:8080/"
        },
        "id": "gd6bdoHcVhby",
        "outputId": "5b4b47ac-82fc-495d-b3e8-1340f69a16b7"
      },
      "execution_count": 35,
      "outputs": [
        {
          "output_type": "execute_result",
          "data": {
            "text/plain": [
              "16406                              they kill you\n",
              "31606                             questioned him\n",
              "124030                         finished went bed\n",
              "172205    applicant suitable abilities carry job\n",
              "133290                    want get clothes dirty\n",
              "                           ...                  \n",
              "101309                       think anything else\n",
              "33937                       everyone else waited\n",
              "158815                      pictures took boston\n",
              "153982                 want participate ceremony\n",
              "64668                   tom looks extremely busy\n",
              "Name: English words/sentences, Length: 5000, dtype: object"
            ]
          },
          "metadata": {},
          "execution_count": 35
        }
      ]
    },
    {
      "cell_type": "code",
      "source": [
        "nltk.download('wordnet')\n",
        "from nltk.stem import WordNetLemmatizer\n",
        "from nltk.corpus import wordnet\n",
        "nltk.download('averaged_perceptron_tagger')\n",
        "\n",
        "lemmatizer = WordNetLemmatizer()\n",
        "\n",
        "def wordnet_tag(nltk_tag):\n",
        "    if nltk_tag.startswith('J'):\n",
        "        return wordnet.ADJ\n",
        "    elif nltk_tag.startswith('V'):\n",
        "        return wordnet.VERB\n",
        "    elif nltk_tag.startswith('N'):\n",
        "        return wordnet.NOUN\n",
        "    elif nltk_tag.startswith('R'):\n",
        "        return wordnet.ADV\n",
        "    else:          \n",
        "        return None\n",
        "\n",
        "\n",
        "\n",
        "\n",
        "def lemmatize_sentence(words):\n",
        "    nltk_tagged = nltk.pos_tag(nltk.word_tokenize(words))  \n",
        "    word_tag = map(lambda x: (x[0], wordnet_tag(x[1])), nltk_tagged)\n",
        "    lemmatized_sentence = []\n",
        "    for word, tag in word_tag:\n",
        "        if tag is None:\n",
        "            lemmatized_sentence.append(word)\n",
        "        else:        \n",
        "            lemmatized_sentence.append(lemmatizer.lemmatize(word, tag))\n",
        "    return \" \".join(lemmatized_sentence)\n",
        "\n",
        "\n",
        "df['English words/sentences']=df['English words/sentences'].apply(lambda x: lemmatize_sentence(x))\n",
        "df['English words/sentences']"
      ],
      "metadata": {
        "id": "JaNA5jgRJiCg",
        "colab": {
          "base_uri": "https://localhost:8080/"
        },
        "outputId": "f25ddbd8-c6ec-4d63-e136-fa189c302398"
      },
      "execution_count": 36,
      "outputs": [
        {
          "output_type": "stream",
          "name": "stdout",
          "text": [
            "[nltk_data] Downloading package wordnet to /root/nltk_data...\n",
            "[nltk_data]   Package wordnet is already up-to-date!\n",
            "[nltk_data] Downloading package averaged_perceptron_tagger to\n",
            "[nltk_data]     /root/nltk_data...\n",
            "[nltk_data]   Package averaged_perceptron_tagger is already up-to-\n",
            "[nltk_data]       date!\n"
          ]
        },
        {
          "output_type": "execute_result",
          "data": {
            "text/plain": [
              "16406                            they kill you\n",
              "31606                             question him\n",
              "124030                           finish go bed\n",
              "172205    applicant suitable ability carry job\n",
              "133290                  want get clothes dirty\n",
              "                          ...                 \n",
              "101309                     think anything else\n",
              "33937                       everyone else wait\n",
              "158815                     picture take boston\n",
              "153982               want participate ceremony\n",
              "64668                  tom look extremely busy\n",
              "Name: English words/sentences, Length: 5000, dtype: object"
            ]
          },
          "metadata": {},
          "execution_count": 36
        }
      ]
    },
    {
      "cell_type": "code",
      "source": [
        "%pip install googletrans==3.1.0a0\n",
        "%pip install langdetect"
      ],
      "metadata": {
        "id": "Kja6JYleKC93",
        "colab": {
          "base_uri": "https://localhost:8080/"
        },
        "outputId": "71ba7f7e-1d7c-4a39-f092-ee616f0cf8f2"
      },
      "execution_count": 37,
      "outputs": [
        {
          "output_type": "stream",
          "name": "stdout",
          "text": [
            "Looking in indexes: https://pypi.org/simple, https://us-python.pkg.dev/colab-wheels/public/simple/\n",
            "Requirement already satisfied: googletrans==3.1.0a0 in /usr/local/lib/python3.7/dist-packages (3.1.0a0)\n",
            "Requirement already satisfied: httpx==0.13.3 in /usr/local/lib/python3.7/dist-packages (from googletrans==3.1.0a0) (0.13.3)\n",
            "Requirement already satisfied: certifi in /usr/local/lib/python3.7/dist-packages (from httpx==0.13.3->googletrans==3.1.0a0) (2022.5.18.1)\n",
            "Requirement already satisfied: idna==2.* in /usr/local/lib/python3.7/dist-packages (from httpx==0.13.3->googletrans==3.1.0a0) (2.10)\n",
            "Requirement already satisfied: chardet==3.* in /usr/local/lib/python3.7/dist-packages (from httpx==0.13.3->googletrans==3.1.0a0) (3.0.4)\n",
            "Requirement already satisfied: hstspreload in /usr/local/lib/python3.7/dist-packages (from httpx==0.13.3->googletrans==3.1.0a0) (2021.12.1)\n",
            "Requirement already satisfied: rfc3986<2,>=1.3 in /usr/local/lib/python3.7/dist-packages (from httpx==0.13.3->googletrans==3.1.0a0) (1.5.0)\n",
            "Requirement already satisfied: sniffio in /usr/local/lib/python3.7/dist-packages (from httpx==0.13.3->googletrans==3.1.0a0) (1.2.0)\n",
            "Requirement already satisfied: httpcore==0.9.* in /usr/local/lib/python3.7/dist-packages (from httpx==0.13.3->googletrans==3.1.0a0) (0.9.1)\n",
            "Requirement already satisfied: h11<0.10,>=0.8 in /usr/local/lib/python3.7/dist-packages (from httpcore==0.9.*->httpx==0.13.3->googletrans==3.1.0a0) (0.9.0)\n",
            "Requirement already satisfied: h2==3.* in /usr/local/lib/python3.7/dist-packages (from httpcore==0.9.*->httpx==0.13.3->googletrans==3.1.0a0) (3.2.0)\n",
            "Requirement already satisfied: hyperframe<6,>=5.2.0 in /usr/local/lib/python3.7/dist-packages (from h2==3.*->httpcore==0.9.*->httpx==0.13.3->googletrans==3.1.0a0) (5.2.0)\n",
            "Requirement already satisfied: hpack<4,>=3.0 in /usr/local/lib/python3.7/dist-packages (from h2==3.*->httpcore==0.9.*->httpx==0.13.3->googletrans==3.1.0a0) (3.0.0)\n",
            "Looking in indexes: https://pypi.org/simple, https://us-python.pkg.dev/colab-wheels/public/simple/\n",
            "Requirement already satisfied: langdetect in /usr/local/lib/python3.7/dist-packages (1.0.9)\n",
            "Requirement already satisfied: six in /usr/local/lib/python3.7/dist-packages (from langdetect) (1.15.0)\n"
          ]
        }
      ]
    },
    {
      "cell_type": "code",
      "source": [
        "%pip install google_trans_new"
      ],
      "metadata": {
        "id": "yg2Yiyeuttqj",
        "colab": {
          "base_uri": "https://localhost:8080/"
        },
        "outputId": "e336a2c2-e125-40f2-9e52-de103ee4df87"
      },
      "execution_count": 38,
      "outputs": [
        {
          "output_type": "stream",
          "name": "stdout",
          "text": [
            "Looking in indexes: https://pypi.org/simple, https://us-python.pkg.dev/colab-wheels/public/simple/\n",
            "Requirement already satisfied: google_trans_new in /usr/local/lib/python3.7/dist-packages (1.1.9)\n"
          ]
        }
      ]
    },
    {
      "cell_type": "code",
      "source": [
        "#from langdetect import detect_langs\n",
        "#from langdetect import DetectorFactory"
      ],
      "metadata": {
        "id": "-kzs4k-OutTJ"
      },
      "execution_count": 39,
      "outputs": []
    },
    {
      "cell_type": "code",
      "source": [
        "df['English french words/sentences']=df['English words/sentences'].copy()"
      ],
      "metadata": {
        "id": "5boBh-4ya8bi"
      },
      "execution_count": 40,
      "outputs": []
    },
    {
      "cell_type": "code",
      "source": [
        "from googletrans import Translator\n",
        "#from langdetect import detect\n",
        "#from google_trans_new import google_translator\n",
        "translator=Translator()\n",
        "def lang_trans(x,dest):\n",
        "  return translator.translate(x,dest).text\n",
        "\n",
        "\n",
        "df['English french words/sentences']=df['English french words/sentences'].map(lambda x: lang_trans(x,'fr'))"
      ],
      "metadata": {
        "id": "Xee8w-9wKC5s"
      },
      "execution_count": 41,
      "outputs": []
    },
    {
      "cell_type": "code",
      "source": [
        "df['English french words/sentences']"
      ],
      "metadata": {
        "colab": {
          "base_uri": "https://localhost:8080/"
        },
        "id": "ZqiWvCfBYjEJ",
        "outputId": "e3e2aa9d-3b19-4d69-95d2-ffc1a6e1f550"
      },
      "execution_count": 42,
      "outputs": [
        {
          "output_type": "execute_result",
          "data": {
            "text/plain": [
              "16406                                          ils te tuent\n",
              "31606                                          l'interroger\n",
              "124030                                 finir d'aller au lit\n",
              "172205    postulant capacité appropriée effectuer le tra...\n",
              "133290                         envie de salir ses vêtements\n",
              "                                ...                        \n",
              "101309                                   penser autre chose\n",
              "33937                                  tout le monde attend\n",
              "158815                                   photo prise boston\n",
              "153982                    vouloir participer à la cérémonie\n",
              "64668                        Tom a l'air extrêmement occupé\n",
              "Name: English french words/sentences, Length: 5000, dtype: object"
            ]
          },
          "metadata": {},
          "execution_count": 42
        }
      ]
    },
    {
      "cell_type": "code",
      "source": [
        "df['English words/sentences']"
      ],
      "metadata": {
        "colab": {
          "base_uri": "https://localhost:8080/"
        },
        "id": "4P_irRDjaVFB",
        "outputId": "b23a5b0e-bc37-4dc4-ce9a-1a8952a62658"
      },
      "execution_count": 43,
      "outputs": [
        {
          "output_type": "execute_result",
          "data": {
            "text/plain": [
              "16406                            they kill you\n",
              "31606                             question him\n",
              "124030                           finish go bed\n",
              "172205    applicant suitable ability carry job\n",
              "133290                  want get clothes dirty\n",
              "                          ...                 \n",
              "101309                     think anything else\n",
              "33937                       everyone else wait\n",
              "158815                     picture take boston\n",
              "153982               want participate ceremony\n",
              "64668                  tom look extremely busy\n",
              "Name: English words/sentences, Length: 5000, dtype: object"
            ]
          },
          "metadata": {},
          "execution_count": 43
        }
      ]
    },
    {
      "cell_type": "code",
      "source": [
        "#translated_word = translator.translate('Hello', dest='fr')\n",
        "#translated_word.text"
      ],
      "metadata": {
        "id": "9u6-fIPIKCyP",
        "colab": {
          "base_uri": "https://localhost:8080/",
          "height": 36
        },
        "outputId": "a40cfbdb-b46e-4104-b922-39205f0b6489"
      },
      "execution_count": 44,
      "outputs": [
        {
          "output_type": "execute_result",
          "data": {
            "text/plain": [
              "'Bonjour'"
            ],
            "application/vnd.google.colaboratory.intrinsic+json": {
              "type": "string"
            }
          },
          "metadata": {},
          "execution_count": 44
        }
      ]
    },
    {
      "cell_type": "code",
      "source": [
        "#translated_word = translator.translate('Hello', dest='de') #german\n",
        "#translated_word.text"
      ],
      "metadata": {
        "id": "emtC61BMKCvn",
        "colab": {
          "base_uri": "https://localhost:8080/",
          "height": 36
        },
        "outputId": "94e2fa3e-5bf1-454a-a331-eac3bbaaeca3"
      },
      "execution_count": 45,
      "outputs": [
        {
          "output_type": "execute_result",
          "data": {
            "text/plain": [
              "'Hallo'"
            ],
            "application/vnd.google.colaboratory.intrinsic+json": {
              "type": "string"
            }
          },
          "metadata": {},
          "execution_count": 45
        }
      ]
    },
    {
      "cell_type": "code",
      "source": [
        "df['English spanish words/sentences']=df['English words/sentences'].copy()"
      ],
      "metadata": {
        "id": "PeJfWeNDKCqc"
      },
      "execution_count": 46,
      "outputs": []
    },
    {
      "cell_type": "code",
      "source": [
        "from googletrans import Translator\n",
        "#from langdetect import detect\n",
        "#from google_trans_new import google_translator\n",
        "translator=Translator()\n",
        "def lang_trans(x,dest):\n",
        "  return translator.translate(x,dest).text\n",
        "\n",
        "\n",
        "df['English spanish words/sentences']=df['English spanish words/sentences'].map(lambda x: lang_trans(x,'es'))\n",
        "df['English spanish words/sentences']"
      ],
      "metadata": {
        "id": "CFlESdeHKCmf",
        "colab": {
          "base_uri": "https://localhost:8080/"
        },
        "outputId": "28ebebd4-9482-4dc9-e15e-826ee6b2129a"
      },
      "execution_count": 47,
      "outputs": [
        {
          "output_type": "execute_result",
          "data": {
            "text/plain": [
              "16406                                          te matan\n",
              "31606                                      interrogarlo\n",
              "124030                         terminar de ir a la cama\n",
              "172205    solicitante capacidad adecuada llevar trabajo\n",
              "133290                          quiero ensuciar la ropa\n",
              "                              ...                      \n",
              "101309                              piensa en otra cosa\n",
              "33937                           todos los demás esperen\n",
              "158815                                foto tomar boston\n",
              "153982                quiero participar en la ceremonia\n",
              "64668                 Tom parece extremadamente ocupado\n",
              "Name: English spanish words/sentences, Length: 5000, dtype: object"
            ]
          },
          "metadata": {},
          "execution_count": 47
        }
      ]
    },
    {
      "cell_type": "code",
      "source": [
        "df['English german words/sentences']=df['English words/sentences'].copy()"
      ],
      "metadata": {
        "id": "000iD7KfKCiP"
      },
      "execution_count": 48,
      "outputs": []
    },
    {
      "cell_type": "code",
      "source": [
        "from googletrans import Translator\n",
        "#from langdetect import detect\n",
        "#from google_trans_new import google_translator\n",
        "translator=Translator()\n",
        "def lang_trans(x,dest):\n",
        "  return translator.translate(x,dest).text\n",
        "\n",
        "\n",
        "df['English german words/sentences']=df['English german words/sentences'].map(lambda x: lang_trans(x,'de'))\n",
        "df['English german words/sentences']"
      ],
      "metadata": {
        "id": "oLS4DwHJKCd_",
        "colab": {
          "base_uri": "https://localhost:8080/"
        },
        "outputId": "8a68b79c-bdf1-4b54-9aa5-fa7c50a74ad0"
      },
      "execution_count": 49,
      "outputs": [
        {
          "output_type": "execute_result",
          "data": {
            "text/plain": [
              "16406                                 sie töten dich\n",
              "31606                                    befrage ihn\n",
              "124030                           fertig geh ins bett\n",
              "172205    Bewerber geeignete Fähigkeit Job zu tragen\n",
              "133290              Kleidung schmutzig machen wollen\n",
              "                             ...                    \n",
              "101309                          etwas anderes denken\n",
              "33937                            alle anderen warten\n",
              "158815                        bild nehmen sie boston\n",
              "153982                  Zeremonie teilnehmen möchten\n",
              "64668                 Tom sieht sehr beschäftigt aus\n",
              "Name: English german words/sentences, Length: 5000, dtype: object"
            ]
          },
          "metadata": {},
          "execution_count": 49
        }
      ]
    },
    {
      "cell_type": "code",
      "source": [
        "df = df[['English words/sentences','English german words/sentences','English spanish words/sentences','English french words/sentences']]"
      ],
      "metadata": {
        "id": "Iqr5XxPzjqNi"
      },
      "execution_count": 50,
      "outputs": []
    },
    {
      "cell_type": "code",
      "source": [
        "df"
      ],
      "metadata": {
        "colab": {
          "base_uri": "https://localhost:8080/",
          "height": 424
        },
        "id": "xdJLZXhLjqGh",
        "outputId": "af9e62c8-0227-470a-a627-e844265f0ceb"
      },
      "execution_count": 51,
      "outputs": [
        {
          "output_type": "execute_result",
          "data": {
            "text/plain": [
              "                     English words/sentences  \\\n",
              "16406                          they kill you   \n",
              "31606                           question him   \n",
              "124030                         finish go bed   \n",
              "172205  applicant suitable ability carry job   \n",
              "133290                want get clothes dirty   \n",
              "...                                      ...   \n",
              "101309                   think anything else   \n",
              "33937                     everyone else wait   \n",
              "158815                   picture take boston   \n",
              "153982             want participate ceremony   \n",
              "64668                tom look extremely busy   \n",
              "\n",
              "                    English german words/sentences  \\\n",
              "16406                               sie töten dich   \n",
              "31606                                  befrage ihn   \n",
              "124030                         fertig geh ins bett   \n",
              "172205  Bewerber geeignete Fähigkeit Job zu tragen   \n",
              "133290            Kleidung schmutzig machen wollen   \n",
              "...                                            ...   \n",
              "101309                        etwas anderes denken   \n",
              "33937                          alle anderen warten   \n",
              "158815                      bild nehmen sie boston   \n",
              "153982                Zeremonie teilnehmen möchten   \n",
              "64668               Tom sieht sehr beschäftigt aus   \n",
              "\n",
              "                      English spanish words/sentences  \\\n",
              "16406                                        te matan   \n",
              "31606                                    interrogarlo   \n",
              "124030                       terminar de ir a la cama   \n",
              "172205  solicitante capacidad adecuada llevar trabajo   \n",
              "133290                        quiero ensuciar la ropa   \n",
              "...                                               ...   \n",
              "101309                            piensa en otra cosa   \n",
              "33937                         todos los demás esperen   \n",
              "158815                              foto tomar boston   \n",
              "153982              quiero participar en la ceremonia   \n",
              "64668               Tom parece extremadamente ocupado   \n",
              "\n",
              "                           English french words/sentences  \n",
              "16406                                        ils te tuent  \n",
              "31606                                        l'interroger  \n",
              "124030                               finir d'aller au lit  \n",
              "172205  postulant capacité appropriée effectuer le tra...  \n",
              "133290                       envie de salir ses vêtements  \n",
              "...                                                   ...  \n",
              "101309                                 penser autre chose  \n",
              "33937                                tout le monde attend  \n",
              "158815                                 photo prise boston  \n",
              "153982                  vouloir participer à la cérémonie  \n",
              "64668                      Tom a l'air extrêmement occupé  \n",
              "\n",
              "[5000 rows x 4 columns]"
            ],
            "text/html": [
              "\n",
              "  <div id=\"df-f430a0b7-3fe1-4ebc-867a-648f518254cc\">\n",
              "    <div class=\"colab-df-container\">\n",
              "      <div>\n",
              "<style scoped>\n",
              "    .dataframe tbody tr th:only-of-type {\n",
              "        vertical-align: middle;\n",
              "    }\n",
              "\n",
              "    .dataframe tbody tr th {\n",
              "        vertical-align: top;\n",
              "    }\n",
              "\n",
              "    .dataframe thead th {\n",
              "        text-align: right;\n",
              "    }\n",
              "</style>\n",
              "<table border=\"1\" class=\"dataframe\">\n",
              "  <thead>\n",
              "    <tr style=\"text-align: right;\">\n",
              "      <th></th>\n",
              "      <th>English words/sentences</th>\n",
              "      <th>English german words/sentences</th>\n",
              "      <th>English spanish words/sentences</th>\n",
              "      <th>English french words/sentences</th>\n",
              "    </tr>\n",
              "  </thead>\n",
              "  <tbody>\n",
              "    <tr>\n",
              "      <th>16406</th>\n",
              "      <td>they kill you</td>\n",
              "      <td>sie töten dich</td>\n",
              "      <td>te matan</td>\n",
              "      <td>ils te tuent</td>\n",
              "    </tr>\n",
              "    <tr>\n",
              "      <th>31606</th>\n",
              "      <td>question him</td>\n",
              "      <td>befrage ihn</td>\n",
              "      <td>interrogarlo</td>\n",
              "      <td>l'interroger</td>\n",
              "    </tr>\n",
              "    <tr>\n",
              "      <th>124030</th>\n",
              "      <td>finish go bed</td>\n",
              "      <td>fertig geh ins bett</td>\n",
              "      <td>terminar de ir a la cama</td>\n",
              "      <td>finir d'aller au lit</td>\n",
              "    </tr>\n",
              "    <tr>\n",
              "      <th>172205</th>\n",
              "      <td>applicant suitable ability carry job</td>\n",
              "      <td>Bewerber geeignete Fähigkeit Job zu tragen</td>\n",
              "      <td>solicitante capacidad adecuada llevar trabajo</td>\n",
              "      <td>postulant capacité appropriée effectuer le tra...</td>\n",
              "    </tr>\n",
              "    <tr>\n",
              "      <th>133290</th>\n",
              "      <td>want get clothes dirty</td>\n",
              "      <td>Kleidung schmutzig machen wollen</td>\n",
              "      <td>quiero ensuciar la ropa</td>\n",
              "      <td>envie de salir ses vêtements</td>\n",
              "    </tr>\n",
              "    <tr>\n",
              "      <th>...</th>\n",
              "      <td>...</td>\n",
              "      <td>...</td>\n",
              "      <td>...</td>\n",
              "      <td>...</td>\n",
              "    </tr>\n",
              "    <tr>\n",
              "      <th>101309</th>\n",
              "      <td>think anything else</td>\n",
              "      <td>etwas anderes denken</td>\n",
              "      <td>piensa en otra cosa</td>\n",
              "      <td>penser autre chose</td>\n",
              "    </tr>\n",
              "    <tr>\n",
              "      <th>33937</th>\n",
              "      <td>everyone else wait</td>\n",
              "      <td>alle anderen warten</td>\n",
              "      <td>todos los demás esperen</td>\n",
              "      <td>tout le monde attend</td>\n",
              "    </tr>\n",
              "    <tr>\n",
              "      <th>158815</th>\n",
              "      <td>picture take boston</td>\n",
              "      <td>bild nehmen sie boston</td>\n",
              "      <td>foto tomar boston</td>\n",
              "      <td>photo prise boston</td>\n",
              "    </tr>\n",
              "    <tr>\n",
              "      <th>153982</th>\n",
              "      <td>want participate ceremony</td>\n",
              "      <td>Zeremonie teilnehmen möchten</td>\n",
              "      <td>quiero participar en la ceremonia</td>\n",
              "      <td>vouloir participer à la cérémonie</td>\n",
              "    </tr>\n",
              "    <tr>\n",
              "      <th>64668</th>\n",
              "      <td>tom look extremely busy</td>\n",
              "      <td>Tom sieht sehr beschäftigt aus</td>\n",
              "      <td>Tom parece extremadamente ocupado</td>\n",
              "      <td>Tom a l'air extrêmement occupé</td>\n",
              "    </tr>\n",
              "  </tbody>\n",
              "</table>\n",
              "<p>5000 rows × 4 columns</p>\n",
              "</div>\n",
              "      <button class=\"colab-df-convert\" onclick=\"convertToInteractive('df-f430a0b7-3fe1-4ebc-867a-648f518254cc')\"\n",
              "              title=\"Convert this dataframe to an interactive table.\"\n",
              "              style=\"display:none;\">\n",
              "        \n",
              "  <svg xmlns=\"http://www.w3.org/2000/svg\" height=\"24px\"viewBox=\"0 0 24 24\"\n",
              "       width=\"24px\">\n",
              "    <path d=\"M0 0h24v24H0V0z\" fill=\"none\"/>\n",
              "    <path d=\"M18.56 5.44l.94 2.06.94-2.06 2.06-.94-2.06-.94-.94-2.06-.94 2.06-2.06.94zm-11 1L8.5 8.5l.94-2.06 2.06-.94-2.06-.94L8.5 2.5l-.94 2.06-2.06.94zm10 10l.94 2.06.94-2.06 2.06-.94-2.06-.94-.94-2.06-.94 2.06-2.06.94z\"/><path d=\"M17.41 7.96l-1.37-1.37c-.4-.4-.92-.59-1.43-.59-.52 0-1.04.2-1.43.59L10.3 9.45l-7.72 7.72c-.78.78-.78 2.05 0 2.83L4 21.41c.39.39.9.59 1.41.59.51 0 1.02-.2 1.41-.59l7.78-7.78 2.81-2.81c.8-.78.8-2.07 0-2.86zM5.41 20L4 18.59l7.72-7.72 1.47 1.35L5.41 20z\"/>\n",
              "  </svg>\n",
              "      </button>\n",
              "      \n",
              "  <style>\n",
              "    .colab-df-container {\n",
              "      display:flex;\n",
              "      flex-wrap:wrap;\n",
              "      gap: 12px;\n",
              "    }\n",
              "\n",
              "    .colab-df-convert {\n",
              "      background-color: #E8F0FE;\n",
              "      border: none;\n",
              "      border-radius: 50%;\n",
              "      cursor: pointer;\n",
              "      display: none;\n",
              "      fill: #1967D2;\n",
              "      height: 32px;\n",
              "      padding: 0 0 0 0;\n",
              "      width: 32px;\n",
              "    }\n",
              "\n",
              "    .colab-df-convert:hover {\n",
              "      background-color: #E2EBFA;\n",
              "      box-shadow: 0px 1px 2px rgba(60, 64, 67, 0.3), 0px 1px 3px 1px rgba(60, 64, 67, 0.15);\n",
              "      fill: #174EA6;\n",
              "    }\n",
              "\n",
              "    [theme=dark] .colab-df-convert {\n",
              "      background-color: #3B4455;\n",
              "      fill: #D2E3FC;\n",
              "    }\n",
              "\n",
              "    [theme=dark] .colab-df-convert:hover {\n",
              "      background-color: #434B5C;\n",
              "      box-shadow: 0px 1px 3px 1px rgba(0, 0, 0, 0.15);\n",
              "      filter: drop-shadow(0px 1px 2px rgba(0, 0, 0, 0.3));\n",
              "      fill: #FFFFFF;\n",
              "    }\n",
              "  </style>\n",
              "\n",
              "      <script>\n",
              "        const buttonEl =\n",
              "          document.querySelector('#df-f430a0b7-3fe1-4ebc-867a-648f518254cc button.colab-df-convert');\n",
              "        buttonEl.style.display =\n",
              "          google.colab.kernel.accessAllowed ? 'block' : 'none';\n",
              "\n",
              "        async function convertToInteractive(key) {\n",
              "          const element = document.querySelector('#df-f430a0b7-3fe1-4ebc-867a-648f518254cc');\n",
              "          const dataTable =\n",
              "            await google.colab.kernel.invokeFunction('convertToInteractive',\n",
              "                                                     [key], {});\n",
              "          if (!dataTable) return;\n",
              "\n",
              "          const docLinkHtml = 'Like what you see? Visit the ' +\n",
              "            '<a target=\"_blank\" href=https://colab.research.google.com/notebooks/data_table.ipynb>data table notebook</a>'\n",
              "            + ' to learn more about interactive tables.';\n",
              "          element.innerHTML = '';\n",
              "          dataTable['output_type'] = 'display_data';\n",
              "          await google.colab.output.renderOutput(dataTable, element);\n",
              "          const docLink = document.createElement('div');\n",
              "          docLink.innerHTML = docLinkHtml;\n",
              "          element.appendChild(docLink);\n",
              "        }\n",
              "      </script>\n",
              "    </div>\n",
              "  </div>\n",
              "  "
            ]
          },
          "metadata": {},
          "execution_count": 51
        }
      ]
    },
    {
      "cell_type": "code",
      "source": [
        ""
      ],
      "metadata": {
        "id": "rad-XzoFjp_A"
      },
      "execution_count": null,
      "outputs": []
    },
    {
      "cell_type": "code",
      "source": [
        ""
      ],
      "metadata": {
        "id": "UhVt2Nrrjp2t"
      },
      "execution_count": null,
      "outputs": []
    }
  ]
}